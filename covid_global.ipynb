{
 "cells": [
  {
   "cell_type": "markdown",
   "metadata": {},
   "source": [
    "# Assignment 1  \n",
    "### 1).  Cargar en Jupyter el archivo suministrado: covid_global.csv.\n"
   ]
  },
  {
   "cell_type": "code",
   "execution_count": 40,
   "metadata": {},
   "outputs": [],
   "source": [
    "import pandas as pd\n",
    "import math\n",
    "filename = 'covid_global.csv'\n",
    "data = pd.read_csv(filename, header=0)"
   ]
  },
  {
   "cell_type": "markdown",
   "metadata": {},
   "source": [
    "### 2). Calcular y mostrar la cantidad de pacientes recuperados y muertos en cada continente.\n",
    "\n",
    "*Inicializacion de continentes*\n",
    "   "
   ]
  },
  {
   "cell_type": "code",
   "execution_count": 26,
   "metadata": {},
   "outputs": [
    {
     "name": "stderr",
     "output_type": "stream",
     "text": [
      "C:\\Users\\juanb\\AppData\\Local\\Temp\\ipykernel_1644\\2913890699.py:15: FutureWarning: Dropping of nuisance columns in DataFrame reductions (with 'numeric_only=None') is deprecated; in a future version this will raise TypeError.  Select only valid columns before calling the reduction.\n",
      "  africa_recuperados = africa[africa[\"status\"] == 'R'].max(axis=1).sum() + africa_derecha[africa_derecha[\"status\"] == 'R'].max(axis=1).sum()\n",
      "C:\\Users\\juanb\\AppData\\Local\\Temp\\ipykernel_1644\\2913890699.py:16: FutureWarning: Dropping of nuisance columns in DataFrame reductions (with 'numeric_only=None') is deprecated; in a future version this will raise TypeError.  Select only valid columns before calling the reduction.\n",
      "  africa_muertos = africa[africa[\"status\"] == 'D'].max(axis=1).sum() + africa_derecha[africa_derecha[\"status\"] == 'D'].max(axis=1).sum()\n"
     ]
    }
   ],
   "source": [
    "def pop_multi(continente):\n",
    "    res = continente.copy()\n",
    "    continente.pop(\"Lat\")\n",
    "    continente.pop(\"Long\")\n",
    "    continente.pop(\"Country\")\n",
    "    return res\n",
    "america = data[(data[\"Lat\"] > -56) & (data[\"Lat\"] < 83) & (data[\"Long\"] > -160) & (data[\"Long\"] < -20)]\n",
    "america_copia = pop_multi(america)\n",
    "europa = data[(data[\"Lat\"] > 35) & (data[\"Lat\"] < 71) & (data[\"Long\"] > 9) & (data[\"Long\"] < 40)]\n",
    "europa_copia =pop_multi(europa)\n",
    "africa = data[(data[\"Lat\"] > -35) & (data[\"Lat\"] < 35) & (data[\"Long\"] > -17) & (data[\"Long\"] < 40)]\n",
    "africa_copia =pop_multi(africa)\n",
    "africa_derecha = data[(data[\"Lat\"] > -35) & (data[\"Lat\"] < 12) & (data[\"Long\"] > 40) & (data[\"Long\"] < 50)]\n",
    "africa_derecha_copia =pop_multi(africa_derecha)\n",
    "africa_recuperados = africa[africa[\"status\"] == 'R'].max(axis=1).sum() + africa_derecha[africa_derecha[\"status\"] == 'R'].max(axis=1).sum()\n",
    "africa_muertos = africa[africa[\"status\"] == 'D'].max(axis=1).sum() + africa_derecha[africa_derecha[\"status\"] == 'D'].max(axis=1).sum()\n",
    "asia = data[(data[\"Lat\"] > 2) & (data[\"Lat\"] < 78) & (data[\"Long\"] > 27) & (data[\"Long\"] < 170)]\n",
    "asia_copia =pop_multi(asia)\n",
    "oceania = data[(data[\"Lat\"] > -50) & (data[\"Lat\"] < -20) & (data[\"Long\"] > 113) & (data[\"Long\"] < 125)]\n",
    "oceania_copia =pop_multi(oceania)\n",
    "africa_copia = pd.concat([africa_copia, africa_derecha_copia],axis=0)"
   ]
  },
  {
   "cell_type": "markdown",
   "metadata": {},
   "source": [
    "*Recuperados de cada continente*"
   ]
  },
  {
   "cell_type": "code",
   "execution_count": 27,
   "metadata": {},
   "outputs": [
    {
     "name": "stdout",
     "output_type": "stream",
     "text": [
      "  Continente  Recuperados\n",
      "0    America     44815634\n",
      "1     Europa     25987897\n",
      "2     Africa      8385408\n",
      "3       asia     64554076\n",
      "4    oceania         1039\n"
     ]
    }
   ],
   "source": [
    "america_recuperados = america[america[\"status\"] == 'R']\n",
    "america_recuperados.pop('status')\n",
    "europa_recuperados = europa[europa[\"status\"] == 'R']\n",
    "europa_recuperados.pop('status')\n",
    "asia_recuperados = asia[asia[\"status\"] == 'R']\n",
    "asia_recuperados.pop('status')\n",
    "oceania_recuperados = oceania[oceania[\"status\"] == 'R']\n",
    "oceania_recuperados.pop('status')\n",
    "recuperados_continentes = pd.DataFrame([['America' , america_recuperados.max(axis=1).sum()], \n",
    "                                       ['Europa', europa_recuperados.max(axis=1).sum()],\n",
    "                                       ['Africa', africa_recuperados],\n",
    "                                       ['asia',asia_recuperados.max(axis=1).sum()],\n",
    "                                       ['oceania',oceania_recuperados.max(axis=1).sum()]], \n",
    "                                       columns=['Continente', 'Recuperados'])\n",
    "print(recuperados_continentes)"
   ]
  },
  {
   "cell_type": "markdown",
   "metadata": {},
   "source": [
    "*Muertos de cada continente*"
   ]
  },
  {
   "cell_type": "code",
   "execution_count": 28,
   "metadata": {},
   "outputs": [
    {
     "name": "stdout",
     "output_type": "stream",
     "text": [
      "  Continente  Muertos\n",
      "0    America  2457712\n",
      "1     Europa   889177\n",
      "2     Africa   272127\n",
      "3       asia  1605746\n",
      "4    oceania       10\n"
     ]
    }
   ],
   "source": [
    "america_muertos = america[america[\"status\"] == 'D']\n",
    "america_muertos.pop('status')\n",
    "europa_muertos = europa[europa[\"status\"] == 'D']\n",
    "europa_muertos.pop('status')\n",
    "asia_muertos = asia[asia[\"status\"] == 'D']\n",
    "asia_muertos.pop('status')\n",
    "oceania_muertos = oceania[oceania[\"status\"] == 'D']\n",
    "oceania_muertos.pop('status')\n",
    "muertos_continentes = pd.DataFrame([['America' , america_muertos.max(axis=1).sum()], \n",
    "                                       ['Europa', europa_muertos.max(axis=1).sum()],\n",
    "                                       ['Africa', africa_muertos],\n",
    "                                       ['asia',asia_muertos.max(axis=1).sum()],\n",
    "                                       ['oceania',oceania_muertos.max(axis=1).sum()]], \n",
    "                                       columns=['Continente', 'Muertos'])\n",
    "print(muertos_continentes)"
   ]
  },
  {
   "cell_type": "markdown",
   "metadata": {},
   "source": [
    "### 3). Indicar el país con el mayor crecimiento en la cantidad de recuperados y muertos durante el año 2022\n",
    "\n",
    "*Funcion de crecimiento*  \n",
    "  \n",
    "Esta función da la respuesta teniendo en cuenta la ecuación de crecimiento ((valorFinal-valorInicial)/valorInicial)*100. Este resultado lo vamos iterando en las diferentes filas y comparando para saber cual es el mayor de todos"
   ]
  },
  {
   "cell_type": "code",
   "execution_count": 36,
   "metadata": {},
   "outputs": [],
   "source": [
    "def crecimiento(fecha_ini,fecha_fin,status):\n",
    "    crecimiento, acum = 0,['',0,-1]\n",
    "    data_filter = data[data[\"status\"] == status]\n",
    "    for i in data_filter.index:\n",
    "        if (data_filter.loc[i,'01/22/20':fecha_ini].max() == 0):\n",
    "            crecimiento = data_filter.loc[i,'01/22/20':fecha_fin].max()\n",
    "        else:\n",
    "            crecimiento = ((data_filter.loc[i,'01/22/20':fecha_fin].max() - data_filter.loc[i,'01/22/20':fecha_ini].max()) / data_filter.loc[i,'01/22/20':fecha_ini].max())*100\n",
    "        if crecimiento > acum[2]:\n",
    "            acum[2], acum[1] = crecimiento, i\n",
    "    acum[0], acum[1] = status, data_filter.loc[acum[1],\"Country\"]\n",
    "    return acum"
   ]
  },
  {
   "cell_type": "markdown",
   "metadata": {},
   "source": [
    "*Paises con mayor crecimiento en muertes y recuperados*  \n",
    "  \n",
    "Debido a que en el año 2022 no se reportaron casos de recuperados, este da 0"
   ]
  },
  {
   "cell_type": "code",
   "execution_count": 37,
   "metadata": {},
   "outputs": [
    {
     "name": "stdout",
     "output_type": "stream",
     "text": [
      "  Status       Pais  Porcentaje de Crecimiento\n",
      "0      R  Venezuela                        0.0\n",
      "1      D  Australia                      800.0\n"
     ]
    }
   ],
   "source": [
    "crecimiento_final = pd.DataFrame([crecimiento('01/01/22','01/18/22','R'), \n",
    "                                       crecimiento('01/01/22','01/18/22','D')], \n",
    "                                       columns=['Status','Pais','Porcentaje de Crecimiento'])\n",
    "print(crecimiento_final)"
   ]
  },
  {
   "cell_type": "markdown",
   "metadata": {},
   "source": [
    "### 4). Indicar el país con el menor crecimiento en la cantidad de recuperados y muertos durante el año 2021.\n",
    "\n",
    "*Funcion de menor crecimiento*  \n",
    "  \n",
    "Esta función da la respuesta teniendo en cuenta la ecuación de crecimiento ((valorFinal-valorInicial)/valorInicial)*100. Este resultado lo vamos iterando en las diferentes filas y comparando para saber cual es el menor de todos"
   ]
  },
  {
   "cell_type": "code",
   "execution_count": 41,
   "metadata": {},
   "outputs": [],
   "source": [
    "def menor_crecimiento(fecha_ini,fecha_fin,status):\n",
    "    crecimiento, acum = 0,['',0,math.inf]\n",
    "    data_filter = data[data[\"status\"] == status]\n",
    "    for i in data_filter.index:\n",
    "        if (data_filter.loc[i,'01/22/20':fecha_ini].max() == 0):\n",
    "            crecimiento = data_filter.loc[i,'01/22/20':fecha_fin].max()\n",
    "        else:\n",
    "            crecimiento = ((data_filter.loc[i,'01/22/20':fecha_fin].max() - data_filter.loc[i,'01/22/20':fecha_ini].max()) / data_filter.loc[i,'01/22/20':fecha_ini].max())*100\n",
    "        if crecimiento < acum[2]:\n",
    "            acum[2], acum[1] = crecimiento, i\n",
    "    acum[0], acum[1] = status, data_filter.loc[acum[1],\"Country\"]\n",
    "    return acum"
   ]
  },
  {
   "cell_type": "markdown",
   "metadata": {},
   "source": [
    "*Paises con menor crecimiento en muertos y en recuperados*\n",
    "  \n",
    "Estos dan 0 debido a que en la base de datos en estas fechas no tienen valores durante estas fechas."
   ]
  },
  {
   "cell_type": "code",
   "execution_count": 42,
   "metadata": {},
   "outputs": [
    {
     "name": "stdout",
     "output_type": "stream",
     "text": [
      "  Status            Pais  Porcentaje de Crecimiento\n",
      "0      R  United Kingdom                        0.0\n",
      "1      D          Canada                        0.0\n"
     ]
    }
   ],
   "source": [
    "crecimiento_final = pd.DataFrame([menor_crecimiento('01/01/21','12/31/21','R'), \n",
    "                                       menor_crecimiento('01/01/21','12/31/21','D')], \n",
    "                                       columns=['Status','Pais','Porcentaje de Crecimiento'])\n",
    "print(crecimiento_final)"
   ]
  },
  {
   "cell_type": "markdown",
   "metadata": {},
   "source": [
    "### 5). Indicar por continente el país con mejor tasa de sobrevivientes para cada año: 2020, 2021 y 2022."
   ]
  },
  {
   "cell_type": "code",
   "execution_count": 54,
   "metadata": {},
   "outputs": [
    {
     "name": "stdout",
     "output_type": "stream",
     "text": [
      "                    Country        Lat       Long  01/22/20  01/23/20  \\\n",
      "1                    Kosovo  42.602636  20.902977         0         0   \n",
      "2                  Slovenia  46.151200  14.995500         0         0   \n",
      "24                  Romania  45.943200  24.966800         0         0   \n",
      "27                  Finland  61.924110  25.748151         0         0   \n",
      "62                   Turkey  38.963700  35.243300         0         0   \n",
      "123                 Denmark  56.263900   9.501800         0         0   \n",
      "144                   Italy  41.871940  12.567380         0         0   \n",
      "163              San Marino  43.942400  12.457800         0         0   \n",
      "187                 Hungary  47.162500  19.503300         0         0   \n",
      "233                 Albania  41.153300  20.168300         0         0   \n",
      "243                 Estonia  58.595300  25.013600         0         0   \n",
      "303                 Germany  51.165691  10.451526         0         0   \n",
      "319                  Latvia  56.879600  24.603200         0         0   \n",
      "324                 Croatia  45.100000  15.200000         0         0   \n",
      "331                Slovakia  48.669000  19.699000         0         0   \n",
      "335              Montenegro  42.708678  19.374390         0         0   \n",
      "368                Bulgaria  42.733900  25.485800         0         0   \n",
      "375                 Czechia  49.817500  15.473000         0         0   \n",
      "390                  Serbia  44.016500  21.005900         0         0   \n",
      "398                 Moldova  47.411600  28.369900         0         0   \n",
      "440                  Poland  51.919400  19.145100         0         0   \n",
      "442                   Malta  35.937500  14.375400         0         0   \n",
      "445  Bosnia and Herzegovina  43.915900  17.679100         0         0   \n",
      "451                 Ukraine  48.379400  31.165600         0         0   \n",
      "458               Lithuania  55.169400  23.881300         0         0   \n",
      "472                  Sweden  60.128161  18.643501         0         0   \n",
      "487                  Greece  39.074200  21.824300         0         0   \n",
      "490                  Cyprus  35.126400  33.429900         0         0   \n",
      "498         North Macedonia  41.608600  21.745300         0         0   \n",
      "499                 Austria  47.516200  14.550100         0         0   \n",
      "517                 Belarus  53.709800  27.953400         0         0   \n",
      "529           Liechtenstein  47.140000   9.550000         0         0   \n",
      "537                Holy See  41.902900  12.453400         0         0   \n",
      "\n",
      "     01/24/20  01/25/20  01/26/20  01/27/20  01/28/20  ...  01/10/22  \\\n",
      "1           0         0         0         0         0  ...      2991   \n",
      "2           0         0         0         0         0  ...      5662   \n",
      "24          0         0         0         0         0  ...     59027   \n",
      "27          0         0         0         0         0  ...      1656   \n",
      "62          0         0         0         0         0  ...     83843   \n",
      "123         0         0         0         0         0  ...      3394   \n",
      "144         0         0         0         0         0  ...    139265   \n",
      "163         0         0         0         0         0  ...       103   \n",
      "187         0         0         0         0         0  ...     39947   \n",
      "233         0         0         0         0         0  ...      3241   \n",
      "243         0         0         0         0         0  ...      1956   \n",
      "303         0         0         0         0         0  ...    114127   \n",
      "319         0         0         0         0         0  ...      4661   \n",
      "324         0         0         0         0         0  ...     12918   \n",
      "331         0         0         0         0         0  ...     16989   \n",
      "335         0         0         0         0         0  ...      2448   \n",
      "368         0         0         0         0         0  ...     31672   \n",
      "375         0         0         0         0         0  ...     36624   \n",
      "390         0         0         0         0         0  ...     12936   \n",
      "398         0         0         0         0         0  ...     10380   \n",
      "440         0         0         0         0         0  ...     99761   \n",
      "442         0         0         0         0         0  ...       488   \n",
      "445         0         0         0         0         0  ...     13645   \n",
      "451         0         0         0         0         0  ...    103716   \n",
      "458         0         0         0         0         0  ...      7554   \n",
      "472         0         0         0         0         0  ...     15377   \n",
      "487         0         0         0         0         0  ...     21479   \n",
      "490         0         0         0         0         0  ...       661   \n",
      "498         0         0         0         0         0  ...      8042   \n",
      "499         0         0         0         0         0  ...     13855   \n",
      "517         0         0         0         0         0  ...      5724   \n",
      "529         0         0         0         0         0  ...        71   \n",
      "537         0         0         0         0         0  ...         0   \n",
      "\n",
      "     01/11/22  01/12/22  01/13/22  01/14/22  01/15/22  01/16/22  01/17/22  \\\n",
      "1        2991      2992      2994      2994      2994      2994      2994   \n",
      "2        5666      5678      5685      5691      5696      5698      5705   \n",
      "24      59070     59114     59150     59180     59212     59240     59257   \n",
      "27       1666      1688      1700      1724      1724      1724      1724   \n",
      "62      83980     84125     84278     84278     84622     84758     84920   \n",
      "123      3408      3433      3453      3468      3484      3494      3505   \n",
      "144    139559    139872    140188    140548    140856    141104    141391   \n",
      "163       103       103       103       103       103       103       103   \n",
      "187     40016     40083     40164     40237     40237     40237     40507   \n",
      "233      3247      3253      3255      3262      3265      3269      3271   \n",
      "243      1959      1963      1967      1970      1976      1979      1984   \n",
      "303    114739    115056    115343    115576    115627    115654    115846   \n",
      "319      4668      4690      4700      4712      4726      4730      4734   \n",
      "324     12956     12983     13006     13038     13073     13118     13157   \n",
      "331     17039     17081     17128     17188     17252     17300     17352   \n",
      "335      2453      2457      2460      2465      2466      2474      2479   \n",
      "368     31761     31838     31922     32002     32042     32086     32247   \n",
      "375     36683     36765     36765     36799     36828     36853     36874   \n",
      "390     12936     12958     13003     13026     13045     13071     13098   \n",
      "398     10397     10406     10416     10427     10437     10444     10452   \n",
      "440    100254    100938    101419    101841    102270    102305    102309   \n",
      "442       492       496       496       501       504       506       506   \n",
      "445     13673     13696     13722     13741     13741     13741     13841   \n",
      "451    103950    104159    104367    104521    104663    104765    104856   \n",
      "458      7565      7603      7603      7618      7643      7654      7660   \n",
      "472     15431     15462     15482     15513     15513     15513     15513   \n",
      "487     21559     21637     21732     21809     21888     21984     22087   \n",
      "490       665       669       672       672       673       681       684   \n",
      "498      8055      8062      8070      8083      8092      8100      8115   \n",
      "499     13872     13882     13898     13905     13915     13920     13922   \n",
      "517      5739      5757      5774      5792      5808      5824      5836   \n",
      "529        71        71        72        72        72        72        73   \n",
      "537         0         0         0         0         0         0         0   \n",
      "\n",
      "     01/18/22  status  \n",
      "1        2995       D  \n",
      "2        5715       D  \n",
      "24      59327       D  \n",
      "27       1724       D  \n",
      "62      85077       D  \n",
      "123      3519       D  \n",
      "144    141825       D  \n",
      "163       103       D  \n",
      "187     40601       D  \n",
      "233      3277       D  \n",
      "243      1987       D  \n",
      "303    116085       D  \n",
      "319      4742       D  \n",
      "324     13212       D  \n",
      "331     17398       D  \n",
      "335      2485       D  \n",
      "368     32338       D  \n",
      "375     36910       D  \n",
      "390     13124       D  \n",
      "398     10462       D  \n",
      "440    102686       D  \n",
      "442       509       D  \n",
      "445     13888       D  \n",
      "451    105059       D  \n",
      "458      7681       D  \n",
      "472     15558       D  \n",
      "487     22197       D  \n",
      "490       689       D  \n",
      "498      8139       D  \n",
      "499     13942       D  \n",
      "517      5850       D  \n",
      "529        73       D  \n",
      "537         0       D  \n",
      "\n",
      "[33 rows x 732 columns]\n"
     ]
    }
   ],
   "source": [
    "def tasa_sobrevivientes(continente,dia):\n",
    "    continente_recuperados = continente[continente[\"status\"]=='R']\n",
    "    continente_muertos = continente[continente[\"status\"]=='D']\n",
    "    res = continente_muertos.groupby([\"Country\"])\n",
    "    print(res.tail(2))\n",
    "tasa_sobrevivientes(europa_copia,'12/31/20')"
   ]
  },
  {
   "cell_type": "markdown",
   "metadata": {},
   "source": [
    "for i in continente_recuperados.index:\n",
    "        pais_par = continente_muertos[(continente_muertos['Lat']==continente_recuperados.loc[i,'Lat']) & (continente_muertos['Long']==continente_recuperados.loc[i,'Long'])]\n",
    "        ##print(pais_par.loc[:,dia], i)\n",
    "        res = continente_recuperados.loc[i,dia] / pais_par.loc[:,dia] if int(pais_par.loc[:,dia]) != 0 else continente_recuperados.loc[i,dia]"
   ]
  },
  {
   "cell_type": "code",
   "execution_count": null,
   "metadata": {},
   "outputs": [],
   "source": []
  }
 ],
 "metadata": {
  "interpreter": {
   "hash": "09ce84f14f8a7420599b8282869115fcc65438a5cd04e30ee6063cb81a22a355"
  },
  "kernelspec": {
   "display_name": "Python 3.9.7 64-bit",
   "language": "python",
   "name": "python3"
  },
  "language_info": {
   "codemirror_mode": {
    "name": "ipython",
    "version": 3
   },
   "file_extension": ".py",
   "mimetype": "text/x-python",
   "name": "python",
   "nbconvert_exporter": "python",
   "pygments_lexer": "ipython3",
   "version": "3.9.7"
  },
  "orig_nbformat": 4
 },
 "nbformat": 4,
 "nbformat_minor": 2
}
