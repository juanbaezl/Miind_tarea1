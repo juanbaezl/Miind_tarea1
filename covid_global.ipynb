{
 "cells": [
  {
   "cell_type": "markdown",
   "metadata": {},
   "source": [
    "# Assignment 1  \n",
    "### 1).  Cargar en Jupyter el archivo suministrado: covid_global.csv.\n"
   ]
  },
  {
   "cell_type": "code",
   "execution_count": 47,
   "metadata": {},
   "outputs": [],
   "source": [
    "import pandas as pd\n",
    "filename = 'covid_global.csv'\n",
    "data = pd.read_csv(filename, header=0)"
   ]
  },
  {
   "cell_type": "markdown",
   "metadata": {},
   "source": [
    "### 2). Calcular y mostrar la cantidad de pacientes recuperados y muertos en cada continente.\n",
    "\n",
    "*Inicializacion de continentes*\n",
    "   "
   ]
  },
  {
   "cell_type": "code",
   "execution_count": 48,
   "metadata": {},
   "outputs": [
    {
     "name": "stderr",
     "output_type": "stream",
     "text": [
      "C:\\Users\\juanb\\AppData\\Local\\Temp\\ipykernel_8592\\4001117721.py:13: FutureWarning: Dropping of nuisance columns in DataFrame reductions (with 'numeric_only=None') is deprecated; in a future version this will raise TypeError.  Select only valid columns before calling the reduction.\n",
      "  africa_recuperados = africa[africa[\"status\"] == 'R'].sum(axis=1).sum() + africa_derecha[africa_derecha[\"status\"] == 'R'].sum(axis=1).sum()\n",
      "C:\\Users\\juanb\\AppData\\Local\\Temp\\ipykernel_8592\\4001117721.py:14: FutureWarning: Dropping of nuisance columns in DataFrame reductions (with 'numeric_only=None') is deprecated; in a future version this will raise TypeError.  Select only valid columns before calling the reduction.\n",
      "  africa_muertos = africa[africa[\"status\"] == 'D'].sum(axis=1).sum() + africa_derecha[africa_derecha[\"status\"] == 'D'].sum(axis=1).sum()\n"
     ]
    }
   ],
   "source": [
    "def pop_multi(continente):\n",
    "    continente.pop(\"Lat\")\n",
    "    continente.pop(\"Long\")\n",
    "    continente.pop(\"Country\")\n",
    "america = data[(data[\"Lat\"] > -56) & (data[\"Lat\"] < 83) & (data[\"Long\"] > -160) & (data[\"Long\"] < -20)]\n",
    "pop_multi(america)\n",
    "europa = data[(data[\"Lat\"] > 35) & (data[\"Lat\"] < 71) & (data[\"Long\"] > 9) & (data[\"Long\"] < 40)]\n",
    "pop_multi(europa)\n",
    "africa = data[(data[\"Lat\"] > -35) & (data[\"Lat\"] < 35) & (data[\"Long\"] > -17) & (data[\"Long\"] < 40)]\n",
    "pop_multi(africa)\n",
    "africa_derecha = data[(data[\"Lat\"] > -35) & (data[\"Lat\"] < 12) & (data[\"Long\"] > 40) & (data[\"Long\"] < 50)]\n",
    "pop_multi(africa_derecha)\n",
    "africa_recuperados = africa[africa[\"status\"] == 'R'].sum(axis=1).sum() + africa_derecha[africa_derecha[\"status\"] == 'R'].sum(axis=1).sum()\n",
    "africa_muertos = africa[africa[\"status\"] == 'D'].sum(axis=1).sum() + africa_derecha[africa_derecha[\"status\"] == 'D'].sum(axis=1).sum()\n",
    "asia = data[(data[\"Lat\"] > 2) & (data[\"Lat\"] < 78) & (data[\"Long\"] > 27) & (data[\"Long\"] < 170)]\n",
    "pop_multi(asia)\n",
    "oceania = data[(data[\"Lat\"] > -50) & (data[\"Lat\"] < -20) & (data[\"Long\"] > 113) & (data[\"Long\"] < 125)]\n",
    "pop_multi(oceania)"
   ]
  },
  {
   "cell_type": "markdown",
   "metadata": {},
   "source": [
    "*Recuperados de cada continente*"
   ]
  },
  {
   "cell_type": "code",
   "execution_count": 49,
   "metadata": {},
   "outputs": [
    {
     "name": "stdout",
     "output_type": "stream",
     "text": [
      "  Continente  Recuperados\n",
      "0    America   7568657372\n",
      "1     Europa   4738492704\n",
      "2     Africa   1562645586\n",
      "3       asia  10789572922\n",
      "4    oceania       375995\n"
     ]
    }
   ],
   "source": [
    "america_recuperados = america[america[\"status\"] == 'R']\n",
    "america_recuperados.pop('status')\n",
    "europa_recuperados = europa[europa[\"status\"] == 'R']\n",
    "europa_recuperados.pop('status')\n",
    "asia_recuperados = asia[asia[\"status\"] == 'R']\n",
    "asia_recuperados.pop('status')\n",
    "oceania_recuperados = oceania[oceania[\"status\"] == 'R']\n",
    "oceania_recuperados.pop('status')\n",
    "recuperados_continentes = pd.DataFrame([['America' , america_recuperados.sum(axis=1).sum()], \n",
    "                                       ['Europa', europa_recuperados.sum(axis=1).sum()],\n",
    "                                       ['Africa', africa_recuperados],\n",
    "                                       ['asia',asia_recuperados.sum(axis=1).sum()],\n",
    "                                       ['oceania',oceania_recuperados.sum(axis=1).sum()]], \n",
    "                                       columns=['Continente', 'Recuperados'])\n",
    "print(recuperados_continentes)"
   ]
  },
  {
   "cell_type": "markdown",
   "metadata": {},
   "source": [
    "*Muertos de cada continente*"
   ]
  },
  {
   "cell_type": "code",
   "execution_count": 50,
   "metadata": {},
   "outputs": [
    {
     "name": "stdout",
     "output_type": "stream",
     "text": [
      "  Continente  Recuperados\n",
      "0    America    834279161\n",
      "1     Europa    255816570\n",
      "2     Africa     79625748\n",
      "3       asia    419413288\n",
      "4    oceania         5867\n"
     ]
    }
   ],
   "source": [
    "america_muertos = america[america[\"status\"] == 'D']\n",
    "america_muertos.pop('status')\n",
    "europa_muertos = europa[europa[\"status\"] == 'D']\n",
    "europa_muertos.pop('status')\n",
    "asia_muertos = asia[asia[\"status\"] == 'D']\n",
    "asia_muertos.pop('status')\n",
    "oceania_muertos = oceania[oceania[\"status\"] == 'D']\n",
    "oceania_muertos.pop('status')\n",
    "muertos_continentes = pd.DataFrame([['America' , america_muertos.sum(axis=1).sum()], \n",
    "                                       ['Europa', europa_muertos.sum(axis=1).sum()],\n",
    "                                       ['Africa', africa_muertos],\n",
    "                                       ['asia',asia_muertos.sum(axis=1).sum()],\n",
    "                                       ['oceania',oceania_muertos.sum(axis=1).sum()]], \n",
    "                                       columns=['Continente', 'Recuperados'])\n",
    "print(muertos_continentes)"
   ]
  },
  {
   "cell_type": "markdown",
   "metadata": {},
   "source": [
    "### 3). Indicar el país con el mayor crecimiento en la cantidad de recuperados y muertos durante el año 2022\n",
    "\n",
    "*Funcion de crecimiento*"
   ]
  },
  {
   "cell_type": "code",
   "execution_count": 68,
   "metadata": {},
   "outputs": [],
   "source": [
    "def crecimiento(fecha_ini,fecha_fin,status):\n",
    "    crecimiento, acum = 0,['',0,0]\n",
    "    data_filter = data[data[\"status\"] == status]\n",
    "    for i in data_filter.index:\n",
    "        if (data_filter.loc[i,fecha_ini] == 0):\n",
    "            crecimiento = data_filter.loc[i,fecha_fin] \n",
    "        else:\n",
    "            crecimiento = (data_filter.loc[i,fecha_fin] - data_filter.loc[i,fecha_ini] / data_filter.loc[i,fecha_ini])*100\n",
    "        if crecimiento > acum[2]:\n",
    "            acum[2], acum[1] = crecimiento, i\n",
    "    acum[0], acum[1] = status, data_filter.loc[acum[1],\"Country\"]\n",
    "    return acum"
   ]
  },
  {
   "cell_type": "markdown",
   "metadata": {},
   "source": [
    "*Paises con mayor crecimiento en muertes y recuperados*"
   ]
  },
  {
   "cell_type": "code",
   "execution_count": 69,
   "metadata": {},
   "outputs": [
    {
     "name": "stdout",
     "output_type": "stream",
     "text": [
      "  Status       Pais  Porcentaje de Crecimiento\n",
      "0      R  Venezuela                        0.0\n",
      "1      D         US                 85395700.0\n"
     ]
    }
   ],
   "source": [
    "crecimiento_final = pd.DataFrame([crecimiento('01/01/22','01/18/22','R'), \n",
    "                                       crecimiento('01/01/22','01/18/22','D')], \n",
    "                                       columns=['Status','Pais','Porcentaje de Crecimiento'])\n",
    "print(crecimiento_final)"
   ]
  },
  {
   "cell_type": "markdown",
   "metadata": {},
   "source": [
    "### 4). Indicar el país con el menor crecimiento en la cantidad de recuperados y muertos durante el año 2021.\n",
    "\n",
    "*Funcion de menor crecimiento*"
   ]
  },
  {
   "cell_type": "code",
   "execution_count": 73,
   "metadata": {},
   "outputs": [],
   "source": [
    "def menor_crecimiento(fecha_ini,fecha_fin,status):\n",
    "    crecimiento, acum = 0,['',0,7000]\n",
    "    data_filter = data[data[\"status\"] == status]\n",
    "    for i in data_filter.index:\n",
    "        if (data_filter.loc[i,fecha_ini] == 0):\n",
    "            crecimiento = data_filter.loc[i,fecha_fin] \n",
    "        else:\n",
    "            crecimiento = (data_filter.loc[i,fecha_fin] - data_filter.loc[i,fecha_ini] / data_filter.loc[i,fecha_ini])*100\n",
    "        if crecimiento < acum[2]:\n",
    "            acum[2], acum[1] = crecimiento, i\n",
    "    acum[0], acum[1] = status, data_filter.loc[acum[1],\"Country\"]\n",
    "    return acum"
   ]
  },
  {
   "cell_type": "markdown",
   "metadata": {},
   "source": [
    "*Paises con menor crecimiento en muertos y en recuperados*"
   ]
  },
  {
   "cell_type": "code",
   "execution_count": 72,
   "metadata": {},
   "outputs": [
    {
     "name": "stdout",
     "output_type": "stream",
     "text": [
      "  Status       Pais  Porcentaje de Crecimiento\n",
      "0      R  Venezuela                     -100.0\n",
      "1      D     Canada                        0.0\n"
     ]
    }
   ],
   "source": [
    "crecimiento_final = pd.DataFrame([menor_crecimiento('01/01/21','12/31/21','R'), \n",
    "                                       menor_crecimiento('01/01/21','12/31/21','D')], \n",
    "                                       columns=['Status','Pais','Porcentaje de Crecimiento'])\n",
    "print(crecimiento_final)"
   ]
  }
 ],
 "metadata": {
  "interpreter": {
   "hash": "09ce84f14f8a7420599b8282869115fcc65438a5cd04e30ee6063cb81a22a355"
  },
  "kernelspec": {
   "display_name": "Python 3.9.7 64-bit",
   "language": "python",
   "name": "python3"
  },
  "language_info": {
   "codemirror_mode": {
    "name": "ipython",
    "version": 3
   },
   "file_extension": ".py",
   "mimetype": "text/x-python",
   "name": "python",
   "nbconvert_exporter": "python",
   "pygments_lexer": "ipython3",
   "version": "3.9.7"
  },
  "orig_nbformat": 4
 },
 "nbformat": 4,
 "nbformat_minor": 2
}
